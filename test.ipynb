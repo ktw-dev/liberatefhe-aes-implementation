{
 "cells": [
  {
   "cell_type": "code",
   "execution_count": null,
   "id": "0f53176f",
   "metadata": {
    "vscode": {
     "languageId": "plaintext"
    }
   },
   "outputs": [],
   "source": [
    "from desilofhe import Engine\n",
    "\n",
    "print(dir(Engine))"
   ]
  },
  {
   "cell_type": "code",
   "execution_count": null,
   "id": "bff95f8f",
   "metadata": {
    "vscode": {
     "languageId": "plaintext"
    }
   },
   "outputs": [],
   "source": []
  }
 ],
 "metadata": {
  "language_info": {
   "name": "python"
  }
 },
 "nbformat": 4,
 "nbformat_minor": 5
}
